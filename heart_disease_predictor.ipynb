{
 "cells": [
  {
   "cell_type": "markdown",
   "id": "0d114e94-c213-40fc-a493-fddc97b8bdb9",
   "metadata": {},
   "source": [
    "# Heart Disease Prediction Model"
   ]
  },
  {
   "cell_type": "code",
   "execution_count": 2,
   "id": "111c7537-f36c-41f0-9f24-71d4bf2f810c",
   "metadata": {},
   "outputs": [],
   "source": [
    "import numpy as np\n",
    "import pandas as pd\n",
    "import matplotlib.pyplot as plt\n",
    "from sklearn.model_selection import train_test_split\n",
    "from sklearn import metrics\n",
    "import seaborn as sns"
   ]
  },
  {
   "cell_type": "code",
   "execution_count": null,
   "id": "31a9307a-b675-4197-9107-e7a425036060",
   "metadata": {},
   "outputs": [],
   "source": []
  }
 ],
 "metadata": {
  "kernelspec": {
   "display_name": "Python 3 (ipykernel)",
   "language": "python",
   "name": "python3"
  },
  "language_info": {
   "codemirror_mode": {
    "name": "ipython",
    "version": 3
   },
   "file_extension": ".py",
   "mimetype": "text/x-python",
   "name": "python",
   "nbconvert_exporter": "python",
   "pygments_lexer": "ipython3",
   "version": "3.12.7"
  }
 },
 "nbformat": 4,
 "nbformat_minor": 5
}
